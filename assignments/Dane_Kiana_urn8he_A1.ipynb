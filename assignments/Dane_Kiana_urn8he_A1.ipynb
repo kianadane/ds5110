{
 "cells": [
  {
   "cell_type": "code",
   "execution_count": 1,
   "id": "ccf3af28-0876-4a08-97a6-abb3b827f5f0",
   "metadata": {},
   "outputs": [],
   "source": [
    "\"\"\"\n",
    "This is a skeleton of Assignment 1 for DS5110/CS5501 Spring 2024 (UVA).\n",
    "NOTE you will need to change the .ipynb file name by following the naming convention.\n",
    "Code should be commented well. \n",
    "Feel free to import any missing packages or add extra cells as you see fit. \n",
    "\"\"\"\n",
    "import dask\n",
    "from dask.distributed import Client\n",
    "import dask.dataframe as dd\n",
    "import time\n",
    "import json\n",
    "import numpy as np\n",
    "import pandas as pd"
   ]
  },
  {
   "cell_type": "code",
   "execution_count": 2,
   "id": "e7052a95-e1ac-45f2-8db4-b86fff29de96",
   "metadata": {},
   "outputs": [
    {
     "name": "stdout",
     "output_type": "stream",
     "text": [
      "None\n"
     ]
    }
   ],
   "source": [
    "# TODO: fill out the private IP address of your Dask scheduler and port here when creating a Dask client object\n",
    "client = Client('172.31.89.180:8786')\n",
    "client = client.restart()\n",
    "print(client)"
   ]
  },
  {
   "cell_type": "code",
   "execution_count": 3,
   "id": "2a111ece-52af-47c7-b19b-400e77c71978",
   "metadata": {},
   "outputs": [
    {
     "name": "stdout",
     "output_type": "stream",
     "text": [
      "CPU times: user 558 ms, sys: 2.44 s, total: 3 s\n",
      "Wall time: 2.98 s\n"
     ]
    }
   ],
   "source": [
    "%%time\n",
    "\n",
    "# Load the .CSV files into the Dask dataframes\n",
    "questions = dd.read_csv('/home/ubuntu/questions.csv', sample=2**30, assume_missing=True)\n",
    "question_tags = dd.read_csv('/home/ubuntu/question_tags.csv', sample=2**30, assume_missing=True)"
   ]
  },
  {
   "cell_type": "code",
   "execution_count": 4,
   "id": "8b3948be-e1c6-4d32-a96a-33c7c7dc8de3",
   "metadata": {},
   "outputs": [
    {
     "name": "stdout",
     "output_type": "stream",
     "text": [
      "Missing values in questions.csv:\n",
      "Id               0.000000\n",
      "CreationDate     0.000000\n",
      "ClosedDate      89.973578\n",
      "DeletionDate    76.962907\n",
      "Score            0.000000\n",
      "OwnerUserId     23.920885\n",
      "AnswerCount     10.114036\n",
      "dtype: float64\n",
      "\n",
      "Missing values in question_tags.csv:\n",
      "Id     0.000000\n",
      "Tag    0.027501\n",
      "dtype: float64\n",
      "CPU times: user 83.9 ms, sys: 15.9 ms, total: 99.7 ms\n",
      "Wall time: 30.2 s\n"
     ]
    }
   ],
   "source": [
    "%%time\n",
    "# Task 1\n",
    "\n",
    "# Function to compute missing value percentages in Dask\n",
    "def missing_percentage(df):\n",
    "    return (df.isnull().sum() / df.shape[0]).compute() * 100\n",
    "\n",
    "# Compute missing values for both tables\n",
    "missing_questions = missing_percentage(questions)\n",
    "missing_question_tags = missing_percentage(question_tags)\n",
    "\n",
    "# Display results\n",
    "print(\"Missing values in questions.csv:\")\n",
    "print(missing_questions)\n",
    "\n",
    "print(\"\\nMissing values in question_tags.csv:\")\n",
    "print(missing_question_tags)"
   ]
  },
  {
   "cell_type": "code",
   "execution_count": 5,
   "id": "243c58de-758c-4cad-8103-0df07fe72681",
   "metadata": {},
   "outputs": [
    {
     "name": "stdout",
     "output_type": "stream",
     "text": [
      "Mean: 1.2041671665555287\n",
      "Standard Deviation: 15.64573552737141\n",
      "Median: 1.0\n",
      "Min: -154.0\n",
      "Max: 16902.0\n",
      "CPU times: user 145 ms, sys: 17 ms, total: 162 ms\n",
      "Wall time: 1min 2s\n"
     ]
    }
   ],
   "source": [
    "%%time\n",
    "# Task 2\n",
    "\n",
    "# Compute statistics for the 'Score' column using Dask\n",
    "score_stats = {\n",
    "    \"Mean\": questions[\"Score\"].mean().compute(),\n",
    "    \"Standard Deviation\": questions[\"Score\"].std().compute(),\n",
    "    \"Median\": questions[\"Score\"].quantile(0.5).compute(),  # Use quantile for median in Dask\n",
    "    \"Min\": questions[\"Score\"].min().compute(),\n",
    "    \"Max\": questions[\"Score\"].max().compute()\n",
    "}\n",
    "\n",
    "# Display results\n",
    "for stat, value in score_stats.items():\n",
    "    print(f\"{stat}: {value}\")"
   ]
  },
  {
   "cell_type": "code",
   "execution_count": 6,
   "id": "3707f87a-41d6-49ba-9d50-23e7b3039dbe",
   "metadata": {},
   "outputs": [
    {
     "name": "stdout",
     "output_type": "stream",
     "text": [
      "Top 5 tags with the highest number of questions:\n",
      "Tag\n",
      "#                       1\n",
      ".net-interview          5\n",
      ".net-standard-1.5       2\n",
      "10gen-csharp-driver    12\n",
      "2to3                    8\n",
      "Name: count, dtype: int64[pyarrow]\n",
      "CPU times: user 51.9 ms, sys: 6.07 ms, total: 58 ms\n",
      "Wall time: 15.5 s\n"
     ]
    }
   ],
   "source": [
    "%%time\n",
    "# Task 3\n",
    "\n",
    "# Count occurrences of each tag and compute the top 5\n",
    "top_tags = question_tags[\"Tag\"].value_counts().compute().head(5)\n",
    "\n",
    "# Display results\n",
    "print(\"Top 5 tags with the highest number of questions:\")\n",
    "print(top_tags)"
   ]
  },
  {
   "cell_type": "code",
   "execution_count": 7,
   "id": "ecc2dc12-f472-46df-a076-f7d10eff3350",
   "metadata": {},
   "outputs": [
    {
     "name": "stdout",
     "output_type": "stream",
     "text": [
      "0\n",
      "CPU times: user 11.5 s, sys: 3.96 s, total: 15.4 s\n",
      "Wall time: 46.3 s\n"
     ]
    }
   ],
   "source": [
    "%%time\n",
    "# Task 4\n",
    "\n",
    "# Convert the Id columns to sets for efficient lookup (forcing computation)\n",
    "question_ids = set(questions[\"Id\"].compute())\n",
    "tagged_question_ids = set(question_tags[\"Id\"].compute())\n",
    "\n",
    "# Check for dangling references\n",
    "dangling_references = tagged_question_ids - question_ids\n",
    "\n",
    "# Return 1 if there are dangling references, otherwise return 0\n",
    "print(1 if len(dangling_references) > 0 else 0)\n",
    "\n"
   ]
  },
  {
   "cell_type": "code",
   "execution_count": 8,
   "id": "707364cd-4886-4daa-88cb-3714f8cadddc",
   "metadata": {},
   "outputs": [
    {
     "name": "stdout",
     "output_type": "stream",
     "text": [
      "Top 5 Owner Users who asked the most questions:\n",
      "        OwnerUserId  AverageScore  NumQuestions  NumAnswers\n",
      "363219     875317.0      1.198206          2230      3499.0\n",
      "9195        39677.0      6.607613          2128      5176.0\n",
      "1972         4653.0      6.883095          1822      5696.0\n",
      "9347        34537.0      5.213690          1680      4525.0\n",
      "41352      179736.0      7.344987          1516      3982.0\n",
      "CPU times: user 702 ms, sys: 196 ms, total: 898 ms\n",
      "Wall time: 19 s\n"
     ]
    }
   ],
   "source": [
    "%%time\n",
    "# Task 5\n",
    "\n",
    "# Group by 'OwnerUserId' and compute required aggregations (without nunique)\n",
    "owner_user_table = questions.groupby(\"OwnerUserId\").agg(\n",
    "    {\"Score\": \"mean\", \"Id\": \"count\", \"AnswerCount\": \"sum\"}\n",
    ").rename(columns={\"Score\": \"AverageScore\", \"Id\": \"NumQuestions\", \"AnswerCount\": \"NumAnswers\"})\n",
    "\n",
    "# Compute the result (convert to Pandas)\n",
    "owner_user_table = owner_user_table.compute().reset_index()\n",
    "\n",
    "# Get the top 5 users who asked the most questions\n",
    "top_5_owners = owner_user_table.nlargest(5, \"NumQuestions\")\n",
    "\n",
    "# Display the top 5 owner users\n",
    "print(\"Top 5 Owner Users who asked the most questions:\")\n",
    "print(top_5_owners)\n"
   ]
  },
  {
   "cell_type": "code",
   "execution_count": 14,
   "id": "4ed288fa-c22b-4c38-a77c-b68785ddd8a3",
   "metadata": {},
   "outputs": [
    {
     "name": "stdout",
     "output_type": "stream",
     "text": [
      "            Tag  AverageScore  NumAnswers  NumQuestions  NumOwners\n",
      "0           php      0.375525   1855546.0       1365600     339456\n",
      "1       plugins      0.903577     25199.0         27452      15256\n",
      "2  architecture      2.018781     25229.0         16293       8955\n",
      "3          hook      1.144506      4854.0          4851       3170\n",
      "4          linq      1.824996    123939.0         69770      31406\n",
      "CPU times: user 534 ms, sys: 58.4 ms, total: 592 ms\n",
      "Wall time: 1min 58s\n"
     ]
    }
   ],
   "source": [
    "%%time\n",
    "# Task 6\n",
    "\n",
    "# Merge the two tables on 'Id' using Dask's merge\n",
    "merged_table = question_tags.merge(questions, on=\"Id\", how=\"inner\")\n",
    "\n",
    "# Group by 'Tag' and compute supported aggregations (without nunique)\n",
    "tag_table = merged_table.groupby(\"Tag\").agg(\n",
    "    {\"Score\": \"mean\", \"AnswerCount\": \"sum\", \"Id\": \"count\"}\n",
    ").rename(columns={\"Score\": \"AverageScore\", \"AnswerCount\": \"NumAnswers\", \"Id\": \"NumQuestions\"})\n",
    "\n",
    "# Compute the result before calculating unique owner count\n",
    "tag_table = tag_table.compute().reset_index()\n",
    "\n",
    "# Compute unique owners per tag separately after converting to Pandas\n",
    "num_owners = merged_table[[\"Tag\", \"OwnerUserId\"]].drop_duplicates().groupby(\"Tag\").size().compute()\n",
    "\n",
    "# Convert num_owners to a DataFrame and merge with tag_table\n",
    "num_owners = num_owners.to_frame(name=\"NumOwners\").reset_index()\n",
    "tag_table = tag_table.merge(num_owners, on=\"Tag\", how=\"left\")\n",
    "\n",
    "# Display the first few rows of the new table\n",
    "print(tag_table.head())"
   ]
  },
  {
   "cell_type": "code",
   "execution_count": 15,
   "id": "d45b45a5-eaa7-4fa8-b1f2-231e938e43fc",
   "metadata": {},
   "outputs": [
    {
     "name": "stdout",
     "output_type": "stream",
     "text": [
      "Top 5 Owner Users who asked the most questions:\n",
      "        OwnerUserId  AverageScore  NumQuestions  NumAnswers\n",
      "363219     875317.0      1.198206          2230      3499.0\n",
      "9195        39677.0      6.607613          2128      5176.0\n",
      "1972         4653.0      6.883095          1822      5696.0\n",
      "9347        34537.0      5.213690          1680      4525.0\n",
      "41352      179736.0      7.344987          1516      3982.0\n",
      "CPU times: user 236 ms, sys: 198 ms, total: 434 ms\n",
      "Wall time: 31.7 s\n"
     ]
    }
   ],
   "source": [
    "%%time\n",
    "# Task 7: kill the third and fourth worker and repeat Task 5 with two workers \n",
    "\n",
    "# Group by 'OwnerUserId' and compute required aggregations (without nunique)\n",
    "owner_user_table = questions.groupby(\"OwnerUserId\").agg(\n",
    "    {\"Score\": \"mean\", \"Id\": \"count\", \"AnswerCount\": \"sum\"}\n",
    ").rename(columns={\"Score\": \"AverageScore\", \"Id\": \"NumQuestions\", \"AnswerCount\": \"NumAnswers\"})\n",
    "\n",
    "# Compute the result (convert to Pandas)\n",
    "owner_user_table = owner_user_table.compute().reset_index()\n",
    "\n",
    "# Get the top 5 users who asked the most questions\n",
    "top_5_owners = owner_user_table.nlargest(5, \"NumQuestions\")\n",
    "\n",
    "# Display the top 5 owner users\n",
    "print(\"Top 5 Owner Users who asked the most questions:\")\n",
    "print(top_5_owners)\n",
    "\n"
   ]
  },
  {
   "cell_type": "markdown",
   "id": "f7f9945a-3608-4ba0-8ada-74536eadf050",
   "metadata": {},
   "source": [
    "Task 5 original time:\n",
    "- CPU times: user 702 ms, sys: 196 ms, total: 898 ms\n",
    "- Wall time: 19 s\n",
    "\n",
    "Task 7 time: \n",
    "- CPU times: user 236 ms, sys: 198 ms, total: 434 ms\n",
    "- Wall time: 31.7 s\n",
    "\n",
    "\n",
    "Reasoning:\n"
   ]
  },
  {
   "cell_type": "code",
   "execution_count": 16,
   "id": "51817646-5154-4967-8f64-7b4d8fc32417",
   "metadata": {},
   "outputs": [
    {
     "name": "stdout",
     "output_type": "stream",
     "text": [
      "            Tag  AverageScore  NumAnswers  NumQuestions  NumOwners\n",
      "0           php      0.375525   1855546.0       1365600     339456\n",
      "1       plugins      0.903577     25199.0         27452      15256\n",
      "2  architecture      2.018781     25229.0         16293       8955\n",
      "3          hook      1.144506      4854.0          4851       3170\n",
      "4          linq      1.824996    123939.0         69770      31406\n",
      "CPU times: user 451 ms, sys: 26.1 ms, total: 477 ms\n",
      "Wall time: 3min 51s\n"
     ]
    }
   ],
   "source": [
    "%%time\n",
    "# Task 8: kill the third and fourth worker and repeat Task 6 with two workers \n",
    "\n",
    "# Merge the two tables on 'Id' using Dask's merge\n",
    "merged_table = question_tags.merge(questions, on=\"Id\", how=\"inner\")\n",
    "\n",
    "# Group by 'Tag' and compute supported aggregations (without nunique)\n",
    "tag_table = merged_table.groupby(\"Tag\").agg(\n",
    "    {\"Score\": \"mean\", \"AnswerCount\": \"sum\", \"Id\": \"count\"}\n",
    ").rename(columns={\"Score\": \"AverageScore\", \"AnswerCount\": \"NumAnswers\", \"Id\": \"NumQuestions\"})\n",
    "\n",
    "# Compute the result before calculating unique owner count\n",
    "tag_table = tag_table.compute().reset_index()\n",
    "\n",
    "# Compute unique owners per tag separately after converting to Pandas\n",
    "num_owners = merged_table[[\"Tag\", \"OwnerUserId\"]].drop_duplicates().groupby(\"Tag\").size().compute()\n",
    "\n",
    "# Convert num_owners to a DataFrame and merge with tag_table\n",
    "num_owners = num_owners.to_frame(name=\"NumOwners\").reset_index()\n",
    "tag_table = tag_table.merge(num_owners, on=\"Tag\", how=\"left\")\n",
    "\n",
    "# Display the first few rows of the new table\n",
    "print(tag_table.head())\n",
    "\n"
   ]
  },
  {
   "cell_type": "markdown",
   "id": "d6a134c9-1a11-4339-b50c-cad8cc4038b3",
   "metadata": {},
   "source": [
    "Task 6 original time:\n",
    "- CPU times: user 534 ms, sys: 58.4 ms, total: 592 ms\n",
    "- Wall time: 1min 58s\n",
    "\n",
    "Task 8 time:\n",
    "- CPU times: user 451 ms, sys: 26.1 ms, total: 477 ms\n",
    "- Wall time: 3min 51s\n",
    "\n",
    "\n",
    "Reasoning: "
   ]
  }
 ],
 "metadata": {
  "kernelspec": {
   "display_name": "Python 3 (ipykernel)",
   "language": "python",
   "name": "python3"
  },
  "language_info": {
   "codemirror_mode": {
    "name": "ipython",
    "version": 3
   },
   "file_extension": ".py",
   "mimetype": "text/x-python",
   "name": "python",
   "nbconvert_exporter": "python",
   "pygments_lexer": "ipython3",
   "version": "3.10.12"
  }
 },
 "nbformat": 4,
 "nbformat_minor": 5
}
