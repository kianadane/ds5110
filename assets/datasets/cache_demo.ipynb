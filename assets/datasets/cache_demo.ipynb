{
 "cells": [
  {
   "cell_type": "code",
   "execution_count": 1,
   "id": "a38e853c-315d-47a2-844c-4bd98e2233e4",
   "metadata": {},
   "outputs": [],
   "source": [
    "import time\n",
    "import numpy as np"
   ]
  },
  {
   "cell_type": "code",
   "execution_count": 2,
   "id": "5cadd0b0-ae87-43e9-85e4-0c6bd5b0dfba",
   "metadata": {},
   "outputs": [],
   "source": [
    "# function to access data in row-major order\n",
    "def row_major_access(data):\n",
    "    sum = 0\n",
    "    for row in data:\n",
    "        for element in row:\n",
    "            sum += element\n",
    "    return sum"
   ]
  },
  {
   "cell_type": "code",
   "execution_count": 4,
   "id": "5f390f9c-ed64-4aa9-8b6e-a049d683b966",
   "metadata": {},
   "outputs": [],
   "source": [
    "# function to access data in column-major order\n",
    "def column_major_access(data):\n",
    "    sum = 0\n",
    "    for i in range(len(data[0])):\n",
    "        for row in data:\n",
    "            sum + row[i]\n",
    "    return sum"
   ]
  },
  {
   "cell_type": "code",
   "execution_count": 6,
   "id": "71bd6515-f900-457f-a951-09e8d6f967fa",
   "metadata": {},
   "outputs": [],
   "source": [
    "size = 5000\n",
    "data = np.random.rand(size, size)"
   ]
  },
  {
   "cell_type": "code",
   "execution_count": 7,
   "id": "b3fe7933-37d1-41ca-b162-711d8ba0d656",
   "metadata": {},
   "outputs": [
    {
     "name": "stdout",
     "output_type": "stream",
     "text": [
      "CPU times: user 3.37 s, sys: 1.74 ms, total: 3.37 s\n",
      "Wall time: 3.37 s\n"
     ]
    },
    {
     "data": {
      "text/plain": [
       "np.float64(12501290.728929123)"
      ]
     },
     "execution_count": 7,
     "metadata": {},
     "output_type": "execute_result"
    }
   ],
   "source": [
    "%%time\n",
    "row_major_access(data)"
   ]
  },
  {
   "cell_type": "code",
   "execution_count": 8,
   "id": "831be8bc-e284-4133-abff-9cdda0f0fbbc",
   "metadata": {},
   "outputs": [
    {
     "name": "stdout",
     "output_type": "stream",
     "text": [
      "CPU times: user 8.96 s, sys: 4.43 ms, total: 8.97 s\n",
      "Wall time: 8.97 s\n"
     ]
    },
    {
     "data": {
      "text/plain": [
       "0"
      ]
     },
     "execution_count": 8,
     "metadata": {},
     "output_type": "execute_result"
    }
   ],
   "source": [
    "%%time\n",
    "column_major_access(data)"
   ]
  },
  {
   "cell_type": "code",
   "execution_count": 9,
   "id": "68f9a61b-e68b-459c-a6eb-313590ef7d45",
   "metadata": {},
   "outputs": [
    {
     "name": "stdout",
     "output_type": "stream",
     "text": [
      "2.96 s ± 163 ms per loop (mean ± std. dev. of 7 runs, 1 loop each)\n"
     ]
    }
   ],
   "source": [
    "%%timeit\n",
    "row_major_access(data)"
   ]
  },
  {
   "cell_type": "code",
   "execution_count": null,
   "id": "80cc3993-1396-4be6-ba0a-ba2d2f048c38",
   "metadata": {},
   "outputs": [],
   "source": []
  },
  {
   "cell_type": "code",
   "execution_count": 10,
   "id": "4382051d-a7dd-4150-932d-917d90b98fe9",
   "metadata": {},
   "outputs": [],
   "source": [
    "import torch"
   ]
  },
  {
   "cell_type": "code",
   "execution_count": 11,
   "id": "0732495c-acb9-43ee-af02-a993ce3df264",
   "metadata": {},
   "outputs": [],
   "source": [
    "A = torch.rand(10_000, 10_000)"
   ]
  },
  {
   "cell_type": "code",
   "execution_count": 14,
   "id": "d9e8e27d-3a6d-4339-bcde-e0c9e395a7e8",
   "metadata": {},
   "outputs": [
    {
     "name": "stdout",
     "output_type": "stream",
     "text": [
      "97.7 ms ± 9.68 ms per loop (mean ± std. dev. of 7 runs, 10 loops each)\n"
     ]
    }
   ],
   "source": [
    "%%timeit\n",
    "A.sum(dim = 0) # 0 means down: summing over columns"
   ]
  },
  {
   "cell_type": "code",
   "execution_count": 15,
   "id": "44390838-a478-47cc-946f-2c9723ef72f1",
   "metadata": {},
   "outputs": [
    {
     "name": "stdout",
     "output_type": "stream",
     "text": [
      "47 ms ± 7.31 ms per loop (mean ± std. dev. of 7 runs, 10 loops each)\n"
     ]
    }
   ],
   "source": [
    "%%timeit\n",
    "A.sum(dim = 1) # 1 means across: summing over rows"
   ]
  },
  {
   "cell_type": "code",
   "execution_count": null,
   "id": "3641eb60-c5f5-408e-8463-ad393d9602ed",
   "metadata": {},
   "outputs": [],
   "source": []
  },
  {
   "cell_type": "code",
   "execution_count": null,
   "id": "8b841747-f67f-4df2-8de2-c5d8df34bc36",
   "metadata": {},
   "outputs": [],
   "source": []
  }
 ],
 "metadata": {
  "kernelspec": {
   "display_name": "Python 3 (ipykernel)",
   "language": "python",
   "name": "python3"
  },
  "language_info": {
   "codemirror_mode": {
    "name": "ipython",
    "version": 3
   },
   "file_extension": ".py",
   "mimetype": "text/x-python",
   "name": "python",
   "nbconvert_exporter": "python",
   "pygments_lexer": "ipython3",
   "version": "3.10.12"
  }
 },
 "nbformat": 4,
 "nbformat_minor": 5
}
