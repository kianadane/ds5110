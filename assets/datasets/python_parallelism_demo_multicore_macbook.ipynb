{
 "cells": [
  {
   "cell_type": "code",
   "execution_count": 2,
   "id": "ad261805",
   "metadata": {},
   "outputs": [],
   "source": [
    "from time import sleep, time"
   ]
  },
  {
   "cell_type": "code",
   "execution_count": 3,
   "id": "d9261482",
   "metadata": {},
   "outputs": [
    {
     "name": "stdout",
     "output_type": "stream",
     "text": [
      "result: 6\n",
      "0.1025080680847168 seconds\n"
     ]
    }
   ],
   "source": [
    "def add(xy):\n",
    "    sleep(0.1) # imagine this is some complicated, slow calculation\n",
    "    return xy[1] + xy[1]\n",
    "\n",
    "t0 = time()\n",
    "print(\"result:\", add((2,3)))\n",
    "t1 = time()\n",
    "print(t1-t0, \"seconds\")"
   ]
  },
  {
   "cell_type": "code",
   "execution_count": 4,
   "id": "10b23e7c",
   "metadata": {},
   "outputs": [
    {
     "name": "stdout",
     "output_type": "stream",
     "text": [
      "result: 2\n",
      "result: 4\n",
      "result: 6\n",
      "result: 8\n",
      "result: 10\n",
      "result: 12\n",
      "result: 14\n",
      "result: 16\n",
      "result: 18\n",
      "result: 20\n",
      "1.0381689071655273 seconds\n"
     ]
    }
   ],
   "source": [
    "xy_pairs = [(10,1),(10,2),(10,3),(10,4),(10,5),(10,6),(10,7),(10,8),(10,9),(10,10)]\n",
    "\n",
    "t0 = time()\n",
    "for xy in xy_pairs:\n",
    "    print(\"result:\", add(xy))\n",
    "t1 = time()\n",
    "print(t1-t0, \"seconds\")"
   ]
  },
  {
   "cell_type": "code",
   "execution_count": 5,
   "id": "1b939522",
   "metadata": {},
   "outputs": [],
   "source": [
    "from multiprocessing import Pool\n",
    "import multiprocessing"
   ]
  },
  {
   "cell_type": "code",
   "execution_count": 6,
   "id": "dc5aa3c4",
   "metadata": {},
   "outputs": [],
   "source": [
    "multiprocessing.set_start_method('fork')"
   ]
  },
  {
   "cell_type": "code",
   "execution_count": 7,
   "id": "ee7971b3",
   "metadata": {},
   "outputs": [
    {
     "name": "stdout",
     "output_type": "stream",
     "text": [
      "10\n"
     ]
    }
   ],
   "source": [
    "print(multiprocessing.cpu_count())"
   ]
  },
  {
   "cell_type": "code",
   "execution_count": 8,
   "id": "25cf2877",
   "metadata": {},
   "outputs": [
    {
     "name": "stdout",
     "output_type": "stream",
     "text": [
      "10\r\n"
     ]
    }
   ],
   "source": [
    "!sysctl -n hw.ncpu"
   ]
  },
  {
   "cell_type": "code",
   "execution_count": 9,
   "id": "7489e1bf",
   "metadata": {},
   "outputs": [],
   "source": [
    "def add(xy):\n",
    "    for i in range(30000000): # loop 30 million times\n",
    "        pass\n",
    "    return xy[0] + xy[1]"
   ]
  },
  {
   "cell_type": "code",
   "execution_count": 10,
   "id": "720349d6",
   "metadata": {},
   "outputs": [
    {
     "name": "stdout",
     "output_type": "stream",
     "text": [
      "result: 11\n",
      "result: 12\n",
      "result: 13\n",
      "result: 14\n",
      "result: 15\n",
      "result: 16\n",
      "result: 17\n",
      "result: 18\n",
      "result: 19\n",
      "result: 20\n",
      "3.1976261138916016 seconds (1 process)\n",
      "CPU times: user 12.5 ms, sys: 14.3 ms, total: 26.8 ms\n",
      "Wall time: 3.28 s\n"
     ]
    }
   ],
   "source": [
    "%%time\n",
    "with Pool(1) as p:\n",
    "    t0 = time()\n",
    "    for result in p.map(add, xy_pairs):\n",
    "        print(\"result:\", result)\n",
    "    t1 = time()\n",
    "    print(t1-t0, \"seconds (1 process)\")"
   ]
  },
  {
   "cell_type": "code",
   "execution_count": 14,
   "id": "dfd3c2de",
   "metadata": {},
   "outputs": [
    {
     "name": "stdout",
     "output_type": "stream",
     "text": [
      "resut: 11\n",
      "resut: 12\n",
      "resut: 13\n",
      "resut: 14\n",
      "resut: 15\n",
      "resut: 16\n",
      "resut: 17\n",
      "resut: 18\n",
      "resut: 19\n",
      "resut: 20\n",
      "0.406264066696167 seconds (10 processes)\n",
      "CPU times: user 9.17 ms, sys: 28.3 ms, total: 37.5 ms\n",
      "Wall time: 457 ms\n"
     ]
    }
   ],
   "source": [
    "%%time\n",
    "with Pool(10) as p:\n",
    "    t0 = time()\n",
    "    for result in p.map(add, xy_pairs):\n",
    "        print(\"resut:\", result)\n",
    "    t1 = time()\n",
    "    print(t1-t0, \"seconds (10 processes)\")"
   ]
  },
  {
   "cell_type": "code",
   "execution_count": 20,
   "id": "1cf2e085",
   "metadata": {},
   "outputs": [
    {
     "name": "stdout",
     "output_type": "stream",
     "text": [
      "result: 11\n",
      "result: 12\n",
      "result: 13\n",
      "result: 14\n",
      "result: 15\n",
      "result: 16\n",
      "result: 17\n",
      "result: 18\n",
      "result: 19\n",
      "result: 20\n",
      "0.40729498863220215 seconds (multiple processes)\n",
      "CPU times: user 10.8 ms, sys: 37.3 ms, total: 48 ms\n",
      "Wall time: 456 ms\n"
     ]
    }
   ],
   "source": [
    "%%time\n",
    "with Pool(12) as p:\n",
    "    t0 = time()\n",
    "    for result in p.map(add, xy_pairs):\n",
    "        print(\"result:\", result)\n",
    "    t1 = time()\n",
    "    print(t1-t0, \"seconds (multiple processes)\")"
   ]
  },
  {
   "cell_type": "code",
   "execution_count": 21,
   "id": "0197818b",
   "metadata": {},
   "outputs": [],
   "source": [
    "xy_pairs = [(10,1),(10,2),(10,3),(10,4),(10,5),(10,6),(10,7),(10,8),(10,9),(10,10), (10,1),(10,2),(10,3),(10,4),(10,5),(10,6),(10,7),(10,8),(10,9),(10,10)]"
   ]
  },
  {
   "cell_type": "code",
   "execution_count": 27,
   "id": "f839f01e",
   "metadata": {},
   "outputs": [
    {
     "name": "stdout",
     "output_type": "stream",
     "text": [
      "result: 11\n",
      "result: 12\n",
      "result: 13\n",
      "result: 14\n",
      "result: 15\n",
      "result: 16\n",
      "result: 17\n",
      "result: 18\n",
      "result: 19\n",
      "result: 20\n",
      "result: 11\n",
      "result: 12\n",
      "result: 13\n",
      "result: 14\n",
      "result: 15\n",
      "result: 16\n",
      "result: 17\n",
      "result: 18\n",
      "result: 19\n",
      "result: 20\n",
      "0.9183828830718994 seconds (multiple processes)\n",
      "CPU times: user 14.4 ms, sys: 48.7 ms, total: 63.1 ms\n",
      "Wall time: 986 ms\n"
     ]
    }
   ],
   "source": [
    "%%time\n",
    "with Pool(15) as p:\n",
    "    t0 = time()\n",
    "    for result in p.map(add, xy_pairs):\n",
    "        print(\"result:\", result)\n",
    "    t1 = time()\n",
    "    print(t1-t0, \"seconds (multiple processes)\")"
   ]
  },
  {
   "cell_type": "code",
   "execution_count": 28,
   "id": "f990b8dc",
   "metadata": {},
   "outputs": [
    {
     "name": "stdout",
     "output_type": "stream",
     "text": [
      "result: 11\n",
      "result: 12\n",
      "result: 13\n",
      "result: 14\n",
      "result: 15\n",
      "result: 16\n",
      "result: 17\n",
      "result: 18\n",
      "result: 19\n",
      "result: 20\n",
      "result: 11\n",
      "result: 12\n",
      "result: 13\n",
      "result: 14\n",
      "result: 15\n",
      "result: 16\n",
      "result: 17\n",
      "result: 18\n",
      "result: 19\n",
      "result: 20\n",
      "6.314090013504028 seconds (1 process)\n",
      "CPU times: user 4.95 ms, sys: 14 ms, total: 18.9 ms\n",
      "Wall time: 6.33 s\n"
     ]
    }
   ],
   "source": [
    "%%time\n",
    "with Pool(1) as p:\n",
    "    t0 = time()\n",
    "    for result in p.map(add, xy_pairs):\n",
    "        print(\"result:\", result)\n",
    "    t1 = time()\n",
    "    print(t1-t0, \"seconds (1 process)\")"
   ]
  }
 ],
 "metadata": {
  "kernelspec": {
   "display_name": "Python 3 (ipykernel)",
   "language": "python",
   "name": "python3"
  },
  "language_info": {
   "codemirror_mode": {
    "name": "ipython",
    "version": 3
   },
   "file_extension": ".py",
   "mimetype": "text/x-python",
   "name": "python",
   "nbconvert_exporter": "python",
   "pygments_lexer": "ipython3",
   "version": "3.9.6"
  }
 },
 "nbformat": 4,
 "nbformat_minor": 5
}
